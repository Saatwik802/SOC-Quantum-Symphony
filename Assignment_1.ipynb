{
 "cells": [
  {
   "cell_type": "code",
   "execution_count": 26,
   "id": "61c01493",
   "metadata": {},
   "outputs": [],
   "source": [
    "from qiskit import QuantumCircuit\n",
    "from qiskit.quantum_info import Statevector\n",
    "import numpy as np"
   ]
  },
  {
   "cell_type": "code",
   "execution_count": 27,
   "id": "7e1a07c8",
   "metadata": {},
   "outputs": [
    {
     "name": "stdout",
     "output_type": "stream",
     "text": [
      "Initial state vector:\n"
     ]
    },
    {
     "data": {
      "text/latex": [
       "$$ |10\\rangle$$"
      ],
      "text/plain": [
       "<IPython.core.display.Latex object>"
      ]
     },
     "metadata": {},
     "output_type": "display_data"
    },
    {
     "name": "stdout",
     "output_type": "stream",
     "text": [
      "Final state vector:\n"
     ]
    },
    {
     "data": {
      "text/latex": [
       "$$ |01\\rangle$$"
      ],
      "text/plain": [
       "<IPython.core.display.Latex object>"
      ]
     },
     "metadata": {},
     "output_type": "display_data"
    },
    {
     "data": {
      "image/png": "[encoded data removed]",
      "text/plain": [
       "<Figure size 370.906x200.667 with 1 Axes>"
      ]
     },
     "execution_count": 27,
     "metadata": {},
     "output_type": "execute_result"
    }
   ],
   "source": [
    "# Circuit that swaps the state of two qubits\n",
    "qc = QuantumCircuit(2)\n",
    "\n",
    "# Adding a SWAP gate using three CNOT gates\n",
    "qc.cx(0, 1)\n",
    "qc.cx(1, 0)\n",
    "qc.cx(0, 1)\n",
    "\n",
    "initial_state = Statevector.from_label('10') \n",
    "\n",
    "# Apply the circuit to the initial state vector\n",
    "final_state = initial_state.evolve(qc)\n",
    "\n",
    "# Print the initial and final state vectors\n",
    "print(\"Initial state vector:\")\n",
    "display(initial_state.draw(\"latex\"))\n",
    "print(\"Final state vector:\")\n",
    "display(final_state.draw(\"latex\"))\n",
    "\n",
    "# Draw the circuit\n",
    "qc.draw('mpl')"
   ]
  },
  {
   "cell_type": "code",
   "execution_count": 3,
   "id": "778b238c",
   "metadata": {},
   "outputs": [
    {
     "name": "stdout",
     "output_type": "stream",
     "text": [
      "Initial state vector:\n"
     ]
    },
    {
     "data": {
      "text/latex": [
       "$$ |00\\rangle$$"
      ],
      "text/plain": [
       "<IPython.core.display.Latex object>"
      ]
     },
     "metadata": {},
     "output_type": "display_data"
    },
    {
     "name": "stdout",
     "output_type": "stream",
     "text": [
      "Final state vector:\n"
     ]
    },
    {
     "data": {
      "text/latex": [
       "$$\\frac{1}{2} |00\\rangle+\\frac{1}{2} |01\\rangle+\\frac{1}{2} |10\\rangle+\\frac{1}{2} |11\\rangle$$"
      ],
      "text/plain": [
       "<IPython.core.display.Latex object>"
      ]
     },
     "metadata": {},
     "output_type": "display_data"
    },
    {
     "data": {
      "image/png": "[encoded data removed]",
      "text/plain": [
       "<Figure size 203.683x200.667 with 1 Axes>"
      ]
     },
     "execution_count": 3,
     "metadata": {},
     "output_type": "execute_result"
    }
   ],
   "source": [
    "# Computational basis to Hadamard basis\n",
    "qc = QuantumCircuit(2)\n",
    "\n",
    "# Apply Hadamard gate to each qubit\n",
    "qc.h(0)\n",
    "qc.h(1)\n",
    "\n",
    "\n",
    "initial_state = Statevector.from_label('00')\n",
    "\n",
    "# Apply the circuit to the initial state vector\n",
    "final_state = initial_state.evolve(qc)\n",
    "\n",
    "# Print the initial and final state vectors\n",
    "print(\"Initial state vector:\")\n",
    "display(initial_state.draw(\"latex\"))\n",
    "print(\"Final state vector:\")\n",
    "display(final_state.draw(\"latex\"))\n",
    "\n",
    "# Draw the circuit\n",
    "qc.draw('mpl')"
   ]
  },
  {
   "cell_type": "code",
   "execution_count": 4,
   "id": "267caf63",
   "metadata": {},
   "outputs": [
    {
     "name": "stdout",
     "output_type": "stream",
     "text": [
      "Initial state vector:\n"
     ]
    },
    {
     "data": {
      "text/latex": [
       "$$ |000\\rangle$$"
      ],
      "text/plain": [
       "<IPython.core.display.Latex object>"
      ]
     },
     "metadata": {},
     "output_type": "display_data"
    },
    {
     "name": "stdout",
     "output_type": "stream",
     "text": [
      "Final state vector:\n"
     ]
    },
    {
     "data": {
      "text/latex": [
       "$$\\frac{\\sqrt{2}}{2} |000\\rangle+\\frac{\\sqrt{2}}{2} |111\\rangle$$"
      ],
      "text/plain": [
       "<IPython.core.display.Latex object>"
      ]
     },
     "metadata": {},
     "output_type": "display_data"
    },
    {
     "data": {
      "image/png": "[encoded data removed]",
      "text/plain": [
       "<Figure size 371.107x284.278 with 1 Axes>"
      ]
     },
     "execution_count": 4,
     "metadata": {},
     "output_type": "execute_result"
    }
   ],
   "source": [
    "#GHZ STATE\n",
    "qc = QuantumCircuit(3)\n",
    "\n",
    "# Apply Hadamard gate to each qubit\n",
    "qc.h(0)\n",
    "qc.cx(0,1)\n",
    "qc.cx(1,2)\n",
    "\n",
    "\n",
    "initial_state = Statevector.from_label('000')\n",
    "\n",
    "# Apply the circuit to the initial state vector\n",
    "final_state = initial_state.evolve(qc)\n",
    "\n",
    "# Print the initial and final state vectors\n",
    "print(\"Initial state vector:\")\n",
    "display(initial_state.draw(\"latex\"))\n",
    "print(\"Final state vector:\")\n",
    "display(final_state.draw(\"latex\"))\n",
    "# Draw the circuit\n",
    "qc.draw('mpl')"
   ]
  },
  {
   "cell_type": "code",
   "execution_count": 5,
   "id": "62e4ba08",
   "metadata": {},
   "outputs": [
    {
     "name": "stdout",
     "output_type": "stream",
     "text": [
      "Initial state vector:\n"
     ]
    },
    {
     "data": {
      "text/latex": [
       "$$ |000\\rangle$$"
      ],
      "text/plain": [
       "<IPython.core.display.Latex object>"
      ]
     },
     "metadata": {},
     "output_type": "display_data"
    },
    {
     "name": "stdout",
     "output_type": "stream",
     "text": [
      "Final state vector:\n"
     ]
    },
    {
     "data": {
      "text/latex": [
       "$$\\frac{\\sqrt{3}}{3} |001\\rangle+\\frac{\\sqrt{3}}{3} |010\\rangle+\\frac{\\sqrt{3}}{3} |100\\rangle$$"
      ],
      "text/plain": [
       "<IPython.core.display.Latex object>"
      ]
     },
     "metadata": {},
     "output_type": "display_data"
    },
    {
     "data": {
      "image/png": "[encoded data removed]",
      "text/plain": [
       "<Figure size 538.33x284.278 with 1 Axes>"
      ]
     },
     "execution_count": 5,
     "metadata": {},
     "output_type": "execute_result"
    }
   ],
   "source": [
    "#W STATE\n",
    "qc = QuantumCircuit(3)\n",
    "\n",
    "# Apply Hadamard gate to each qubit\n",
    "qc.ry(2*np.arccos(1/np.sqrt(3)),0)\n",
    "qc.ch(0,1)\n",
    "qc.cx(1,2)\n",
    "qc.cx(0,1)\n",
    "qc.x(0)\n",
    "\n",
    "\n",
    "initial_state = Statevector.from_label('000')\n",
    "\n",
    "# Apply the circuit to the initial state vector\n",
    "final_state = initial_state.evolve(qc)\n",
    "\n",
    "# Print the initial and final state vectors\n",
    "print(\"Initial state vector:\")\n",
    "display(initial_state.draw(\"latex\"))\n",
    "print(\"Final state vector:\")\n",
    "display(final_state.draw(\"latex\"))\n",
    "# Draw the circuit\n",
    "qc.draw('mpl')"
   ]
  },
  {
   "cell_type": "code",
   "execution_count": 6,
   "id": "bcac72ef",
   "metadata": {},
   "outputs": [
    {
     "name": "stdout",
     "output_type": "stream",
     "text": [
      "Initial state vector:\n"
     ]
    },
    {
     "data": {
      "text/latex": [
       "$$ |101\\rangle$$"
      ],
      "text/plain": [
       "<IPython.core.display.Latex object>"
      ]
     },
     "metadata": {},
     "output_type": "display_data"
    },
    {
     "name": "stdout",
     "output_type": "stream",
     "text": [
      "Final state vector:\n"
     ]
    },
    {
     "data": {
      "text/latex": [
       "$$ |011\\rangle$$"
      ],
      "text/plain": [
       "<IPython.core.display.Latex object>"
      ]
     },
     "metadata": {},
     "output_type": "display_data"
    },
    {
     "data": {
      "image/png": "[encoded data removed]",
      "text/plain": [
       "<Figure size 371.107x284.278 with 1 Axes>"
      ]
     },
     "execution_count": 6,
     "metadata": {},
     "output_type": "execute_result"
    }
   ],
   "source": [
    "# Controlled swap operation taking q0 as control bit\n",
    "qc = QuantumCircuit(3)\n",
    "\n",
    "qc.ccx(0, 1, 2)\n",
    "qc.ccx(0, 2, 1)\n",
    "qc.ccx(0, 1, 2)\n",
    "\n",
    "\n",
    "initial_state = Statevector.from_label('101')\n",
    "\n",
    "# Apply the circuit to the initial state vector\n",
    "final_state = initial_state.evolve(qc)\n",
    "\n",
    "# Print the initial and final state vectors\n",
    "print(\"Initial state vector:\")\n",
    "display(initial_state.draw(\"latex\"))\n",
    "print(\"Final state vector:\")\n",
    "display(final_state.draw(\"latex\"))\n",
    "qc.draw('mpl')"
   ]
  },
  {
   "cell_type": "code",
   "execution_count": 7,
   "id": "ace7f06d",
   "metadata": {},
   "outputs": [
    {
     "name": "stdout",
     "output_type": "stream",
     "text": [
      "Initial state vector:\n"
     ]
    },
    {
     "data": {
      "text/latex": [
       "$$ |100\\rangle$$"
      ],
      "text/plain": [
       "<IPython.core.display.Latex object>"
      ]
     },
     "metadata": {},
     "output_type": "display_data"
    },
    {
     "name": "stdout",
     "output_type": "stream",
     "text": [
      "Final state vector:\n"
     ]
    },
    {
     "data": {
      "text/latex": [
       "$$ |011\\rangle$$"
      ],
      "text/plain": [
       "<IPython.core.display.Latex object>"
      ]
     },
     "metadata": {},
     "output_type": "display_data"
    },
    {
     "data": {
      "image/png": "[encoded data removed]",
      "text/plain": [
       "<Figure size 705.552x284.278 with 1 Axes>"
      ]
     },
     "execution_count": 7,
     "metadata": {},
     "output_type": "execute_result"
    }
   ],
   "source": [
    "# Decrements a three bit number by 1\n",
    "qc = QuantumCircuit(3)\n",
    "\n",
    "# Apply X gate to flip the 3rd qubit (bit 2) if the first two are zero\n",
    "qc.x(0)\n",
    "qc.x(1)\n",
    "qc.ccx(0, 1, 2)\n",
    "qc.x(0)\n",
    "qc.x(1)\n",
    "    \n",
    "# Apply X gate to flip the 2nd qubit (bit 1) if the first is zero\n",
    "qc.x(0)\n",
    "qc.cx(0, 1)\n",
    "qc.x(0)\n",
    "    \n",
    "# Always flip the least significant bit (bit 0)\n",
    "qc.x(0)\n",
    "\n",
    "\n",
    "initial_state = Statevector.from_label('100')\n",
    "\n",
    "# Apply the circuit to the initial state vector\n",
    "final_state = initial_state.evolve(qc)\n",
    "\n",
    "# Print the initial and final state vectors\n",
    "print(\"Initial state vector:\")\n",
    "display(initial_state.draw(\"latex\"))\n",
    "print(\"Final state vector:\")\n",
    "display(final_state.draw(\"latex\"))\n",
    "qc.draw('mpl')"
   ]
  }
 ],
 "metadata": {
  "kernelspec": {
   "display_name": "Python 3 (ipykernel)",
   "language": "python",
   "name": "python3"
  },
  "language_info": {
   "codemirror_mode": {
    "name": "ipython",
    "version": 3
   },
   "file_extension": ".py",
   "mimetype": "text/x-python",
   "name": "python",
   "nbconvert_exporter": "python",
   "pygments_lexer": "ipython3",
   "version": "3.9.13"
  }
 },
 "nbformat": 4,
 "nbformat_minor": 5
}
