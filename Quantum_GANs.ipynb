{
  "nbformat": 4,
  "nbformat_minor": 0,
  "metadata": {
    "colab": {
      "provenance": [],
      "gpuType": "T4"
    },
    "kernelspec": {
      "name": "python3",
      "display_name": "Python 3"
    },
    "language_info": {
      "name": "python"
    },
    "accelerator": "GPU"
  },
  "cells": [
    {
      "cell_type": "code",
      "source": [
        "pip install pennylane"
      ],
      "metadata": {
        "colab": {
          "base_uri": "https://localhost:8080/"
        },
        "collapsed": true,
        "id": "0T7ZBSi-ev3z",
        "outputId": "1179308b-3c7c-45c5-e18e-c92f8338b60b"
      },
      "execution_count": null,
      "outputs": [
        {
          "output_type": "stream",
          "name": "stdout",
          "text": [
            "Collecting pennylane\n",
            "  Downloading PennyLane-0.37.0-py3-none-any.whl.metadata (9.3 kB)\n",
            "Requirement already satisfied: numpy<2.0 in /usr/local/lib/python3.10/dist-packages (from pennylane) (1.26.4)\n",
            "Requirement already satisfied: scipy in /usr/local/lib/python3.10/dist-packages (from pennylane) (1.13.1)\n",
            "Requirement already satisfied: networkx in /usr/local/lib/python3.10/dist-packages (from pennylane) (3.3)\n",
            "Collecting rustworkx (from pennylane)\n",
            "  Downloading rustworkx-0.15.1-cp38-abi3-manylinux_2_17_x86_64.manylinux2014_x86_64.whl.metadata (9.9 kB)\n",
            "Requirement already satisfied: autograd in /usr/local/lib/python3.10/dist-packages (from pennylane) (1.6.2)\n",
            "Requirement already satisfied: toml in /usr/local/lib/python3.10/dist-packages (from pennylane) (0.10.2)\n",
            "Collecting appdirs (from pennylane)\n",
            "  Downloading appdirs-1.4.4-py2.py3-none-any.whl.metadata (9.0 kB)\n",
            "Collecting semantic-version>=2.7 (from pennylane)\n",
            "  Downloading semantic_version-2.10.0-py2.py3-none-any.whl.metadata (9.7 kB)\n",
            "Collecting autoray>=0.6.11 (from pennylane)\n",
            "  Downloading autoray-0.6.12-py3-none-any.whl.metadata (5.7 kB)\n",
            "Requirement already satisfied: cachetools in /usr/local/lib/python3.10/dist-packages (from pennylane) (5.4.0)\n",
            "Collecting pennylane-lightning>=0.37 (from pennylane)\n",
            "  Downloading PennyLane_Lightning-0.37.0-cp310-cp310-manylinux_2_28_x86_64.whl.metadata (23 kB)\n",
            "Requirement already satisfied: requests in /usr/local/lib/python3.10/dist-packages (from pennylane) (2.31.0)\n",
            "Requirement already satisfied: typing-extensions in /usr/local/lib/python3.10/dist-packages (from pennylane) (4.12.2)\n",
            "Requirement already satisfied: packaging in /usr/local/lib/python3.10/dist-packages (from pennylane) (24.1)\n",
            "Requirement already satisfied: future>=0.15.2 in /usr/local/lib/python3.10/dist-packages (from autograd->pennylane) (1.0.0)\n",
            "Requirement already satisfied: charset-normalizer<4,>=2 in /usr/local/lib/python3.10/dist-packages (from requests->pennylane) (3.3.2)\n",
            "Requirement already satisfied: idna<4,>=2.5 in /usr/local/lib/python3.10/dist-packages (from requests->pennylane) (3.7)\n",
            "Requirement already satisfied: urllib3<3,>=1.21.1 in /usr/local/lib/python3.10/dist-packages (from requests->pennylane) (2.0.7)\n",
            "Requirement already satisfied: certifi>=2017.4.17 in /usr/local/lib/python3.10/dist-packages (from requests->pennylane) (2024.7.4)\n",
            "Downloading PennyLane-0.37.0-py3-none-any.whl (1.8 MB)\n",
            "\u001b[2K   \u001b[90m━━━━━━━━━━━━━━━━━━━━━━━━━━━━━━━━━━━━━━━━\u001b[0m \u001b[32m1.8/1.8 MB\u001b[0m \u001b[31m33.0 MB/s\u001b[0m eta \u001b[36m0:00:00\u001b[0m\n",
            "\u001b[?25hDownloading autoray-0.6.12-py3-none-any.whl (50 kB)\n",
            "\u001b[2K   \u001b[90m━━━━━━━━━━━━━━━━━━━━━━━━━━━━━━━━━━━━━━━━\u001b[0m \u001b[32m51.0/51.0 kB\u001b[0m \u001b[31m4.3 MB/s\u001b[0m eta \u001b[36m0:00:00\u001b[0m\n",
            "\u001b[?25hDownloading PennyLane_Lightning-0.37.0-cp310-cp310-manylinux_2_28_x86_64.whl (15.5 MB)\n",
            "\u001b[2K   \u001b[90m━━━━━━━━━━━━━━━━━━━━━━━━━━━━━━━━━━━━━━━━\u001b[0m \u001b[32m15.5/15.5 MB\u001b[0m \u001b[31m48.9 MB/s\u001b[0m eta \u001b[36m0:00:00\u001b[0m\n",
            "\u001b[?25hDownloading semantic_version-2.10.0-py2.py3-none-any.whl (15 kB)\n",
            "Downloading appdirs-1.4.4-py2.py3-none-any.whl (9.6 kB)\n",
            "Downloading rustworkx-0.15.1-cp38-abi3-manylinux_2_17_x86_64.manylinux2014_x86_64.whl (2.0 MB)\n",
            "\u001b[2K   \u001b[90m━━━━━━━━━━━━━━━━━━━━━━━━━━━━━━━━━━━━━━━━\u001b[0m \u001b[32m2.0/2.0 MB\u001b[0m \u001b[31m53.6 MB/s\u001b[0m eta \u001b[36m0:00:00\u001b[0m\n",
            "\u001b[?25hInstalling collected packages: appdirs, semantic-version, rustworkx, autoray, pennylane-lightning, pennylane\n",
            "Successfully installed appdirs-1.4.4 autoray-0.6.12 pennylane-0.37.0 pennylane-lightning-0.37.0 rustworkx-0.15.1 semantic-version-2.10.0\n"
          ]
        }
      ]
    },
    {
      "cell_type": "markdown",
      "source": [
        "# Quantum GANs"
      ],
      "metadata": {
        "id": "L-e5hPg8Y41-"
      }
    },
    {
      "cell_type": "markdown",
      "source": [
        "In this final part of the project, we will use Quantum GANs (Generative adversarial networks) to generate handwritten digits of zero."
      ],
      "metadata": {
        "id": "MuoLpcxoY_MZ"
      }
    },
    {
      "cell_type": "markdown",
      "source": [
        "# Generative Adversarial Networks (GANs)\n",
        "GANs are a powerful class of neural networks that are used for unsupervised learning. They are made up of two neural networks, a discriminator and a generator and use adversarial training to produce artificial data that is identical to actual data.\n",
        "\n",
        "*   The job of the generator is to create fake data which imitates the real training dataset. On the otherhand, the discriminator acts like a detective trying to discern real from fake data. During the training process, both these neural networks iteratively improve with one another.\n",
        "*   The equilibrium is when the generator is generating perfect fakes that look as if they came directly from the training data, and the discriminator is left to always guess at 50% confidence that the generator output is real or fake\n",
        "\n"
      ],
      "metadata": {
        "id": "diFuMwoXZZgT"
      }
    },
    {
      "cell_type": "markdown",
      "source": [
        "## The Value Function\n",
        "The training dataset represents samples drawn from some unknown data distribution $P_{data}$, and the generator has the job of trying to capture this distribution. The generator, G, starts from some initial latent distribution, $P_z$, and maps it to $P_g$ = $G(P_z$).\n",
        "In practice, the two networks are trained iteratively, each with a separate loss function to be minimised as shown below:  \n",
        "$\\begin{equation}\n",
        "L_D = -[y \\cdot log(D(x)) + (1-y) \\cdot log(1-D(G(z)))]\n",
        "\\end{equation}$\n",
        "\n",
        "$\\begin{equation}\n",
        "L_G = -[(1-y) \\cdot log(D(G(z)))]\n",
        "\\end{equation}$"
      ],
      "metadata": {
        "id": "XqVuRax3bIeI"
      }
    },
    {
      "cell_type": "markdown",
      "source": [
        "# Quantum GANs: The Patch Method\n",
        "Now coming onto the quantum part, in this notebook, I have tried to recreate one of the quantum GAN methods presented by Huang et al., the patch method."
      ],
      "metadata": {
        "id": "lhc0-JnwdnYb"
      }
    },
    {
      "cell_type": "markdown",
      "source": [
        "### How it works?\n",
        "On a top level, we basically use several **quantum generators** with each subgenerator responsible for constructing a small patch of the final image. The final image is then contructed by concatenting all of the patches together."
      ],
      "metadata": {
        "id": "0veERl1yeOVU"
      }
    },
    {
      "cell_type": "markdown",
      "source": [
        "The **discriminator**, on the other hand, is a classical one i.e, a fully connected neural network with two hidden layers. A single output is obtained from it to represent the probability of an input being classified as real. Let's now look at the code to understand this in more detail."
      ],
      "metadata": {
        "id": "0IhZ9Md2fCy8"
      }
    },
    {
      "cell_type": "markdown",
      "source": [
        "Importing the necessary libraries including pennylane and pytorch to help us with quantum and classical machine learning frameworks"
      ],
      "metadata": {
        "id": "p265s06qfert"
      }
    },
    {
      "cell_type": "code",
      "execution_count": null,
      "metadata": {
        "id": "573erd21sOCh"
      },
      "outputs": [],
      "source": [
        "# Library imports\n",
        "import math\n",
        "import random\n",
        "import numpy as np\n",
        "import pandas as pd\n",
        "import matplotlib.pyplot as plt\n",
        "import matplotlib.gridspec as gridspec\n",
        "import pennylane as qml\n",
        "\n",
        "# Pytorch imports\n",
        "import torch\n",
        "import torch.nn as nn\n",
        "import torch.optim as optim\n",
        "import torchvision\n",
        "import torchvision.transforms as transforms\n",
        "from torch.utils.data import Dataset, DataLoader\n",
        "\n",
        "# Set the random seed for reproducibility\n",
        "seed = 42\n",
        "torch.manual_seed(seed)\n",
        "np.random.seed(seed)\n",
        "random.seed(seed)"
      ]
    },
    {
      "cell_type": "markdown",
      "source": [
        "# Creating a custom dataloader for our dataset of handwritten zeros"
      ],
      "metadata": {
        "id": "jctNucSDZkgu"
      }
    },
    {
      "cell_type": "code",
      "source": [
        "class DigitsDataset(Dataset):\n",
        "    \"\"\"Pytorch dataloader for the Optical Recognition of Handwritten Digits Data Set\"\"\"\n",
        "\n",
        "    def __init__(self, csv_file, label=0, transform=None):\n",
        "        \"\"\"\n",
        "        Args:\n",
        "            csv_file (string): Path to the csv file with annotations.\n",
        "            root_dir (string): Directory with all the images.\n",
        "            transform (callable, optional): Optional transform to be applied\n",
        "                on a sample.\n",
        "        \"\"\"\n",
        "        self.csv_file = csv_file\n",
        "        self.transform = transform\n",
        "        self.df = self.filter_by_label(label)\n",
        "\n",
        "    def filter_by_label(self, label):\n",
        "        # Use pandas to return a dataframe of only zeros\n",
        "        df = pd.read_csv(self.csv_file)\n",
        "        df = df.loc[df.iloc[:, -1] == label]\n",
        "        return df\n",
        "\n",
        "    def __len__(self):\n",
        "        return len(self.df)\n",
        "\n",
        "    def __getitem__(self, idx):\n",
        "        if torch.is_tensor(idx):\n",
        "            idx = idx.tolist()\n",
        "\n",
        "        image = self.df.iloc[idx, :-1] / 16\n",
        "        image = np.array(image)\n",
        "        image = image.astype(np.float32).reshape(8, 8)\n",
        "\n",
        "        if self.transform:\n",
        "            image = self.transform(image)\n",
        "\n",
        "        # Return image and label\n",
        "        return image, 0"
      ],
      "metadata": {
        "id": "uM_8kSGlfBnm"
      },
      "execution_count": null,
      "outputs": []
    },
    {
      "cell_type": "markdown",
      "source": [
        "Creating the dataloader instance"
      ],
      "metadata": {
        "id": "SIJsuNTtgOjq"
      }
    },
    {
      "cell_type": "code",
      "source": [
        "image_size = 8  # Height / width of the square images\n",
        "batch_size = 1\n",
        "\n",
        "transform = transforms.Compose([transforms.ToTensor()])\n",
        "dataset = DigitsDataset(csv_file=\"/content/drive/MyDrive/optical+recognition+of+handwritten+digits/optdigits.tra\", transform=transform)\n",
        "dataloader = torch.utils.data.DataLoader(\n",
        "    dataset, batch_size=batch_size, shuffle=True, drop_last=True\n",
        ")"
      ],
      "metadata": {
        "id": "fbYcOGVyfZlS"
      },
      "execution_count": null,
      "outputs": []
    },
    {
      "cell_type": "markdown",
      "source": [
        "Some example images"
      ],
      "metadata": {
        "id": "NNgnCK--gf8A"
      }
    },
    {
      "cell_type": "code",
      "source": [
        "for i in range(8):\n",
        "    image = dataset[i][0].reshape(image_size,image_size)\n",
        "    plt.subplot(1,8,i+1)\n",
        "    plt.axis('off')\n",
        "    plt.imshow(image.numpy(), cmap='gray')\n",
        "\n",
        "plt.show()"
      ],
      "metadata": {
        "colab": {
          "base_uri": "https://localhost:8080/",
          "height": 89
        },
        "id": "4SdDIAqafrx_",
        "outputId": "47dcc45b-17c4-4b15-df69-22c74c3609b0"
      },
      "execution_count": null,
      "outputs": [
        {
          "output_type": "display_data",
          "data": {
            "text/plain": [
              "<Figure size 640x480 with 8 Axes>"
            ],
            "image/png": "[encoded data removed]"
          },
          "metadata": {}
        }
      ]
    },
    {
      "cell_type": "markdown",
      "source": [
        "# The Discriminator\n",
        "As mentioned previously, the discriminator is a classical one with no quantum mechanics involved. It is a fully connected neural network with two hidden layers giving a single output to represent the probability of an input being classified as real.\n"
      ],
      "metadata": {
        "id": "McEJqsFngmGR"
      }
    },
    {
      "cell_type": "code",
      "source": [
        "class Discriminator(nn.Module):\n",
        "    \"\"\"Fully connected classical discriminator\"\"\"\n",
        "\n",
        "    def __init__(self):\n",
        "        super().__init__()\n",
        "\n",
        "        self.model = nn.Sequential(\n",
        "            # Inputs to first hidden layer (num_input_features -> 64)\n",
        "            nn.Linear(image_size * image_size, 64),\n",
        "            nn.ReLU(),\n",
        "            # First hidden layer (64 -> 16)\n",
        "            nn.Linear(64, 16),\n",
        "            nn.ReLU(),\n",
        "            # Second hidden layer (16 -> output)\n",
        "            nn.Linear(16, 1),\n",
        "            nn.Sigmoid(),\n",
        "        )\n",
        "\n",
        "    def forward(self, x):\n",
        "        return self.model(x)"
      ],
      "metadata": {
        "id": "XlezQCphfvh6"
      },
      "execution_count": null,
      "outputs": []
    },
    {
      "cell_type": "markdown",
      "source": [
        "# The Quantum Generator\n",
        "The overall quantum generator consists of $N_G$ sub-generators (with the same architecture), each consisting of N qubits. The process from latent vector input to image output can be split into four distinct sections: state embedding, parameterisation, non-linear transformation, and post-processing.\n",
        "\n",
        "**1.   State embedding:**\n",
        "A latent vector, $z\\in \\mathbb{R}^n$, is sampled from a uniform distribution in the interval $[0,\\pi/2)$. All sub-generators receive the same latent vector which is then embedded using RY gates.\n",
        "\n",
        "**2.   Parameterised Layers:**\n",
        "The parameterised layer consists of parameterised RY gates followed by controlled Z gates. This layer is repeated D times in total.\n",
        "\n",
        "**3.   Non-Linear Transform:**\n",
        "Quantum gates in the circuit model are unitary which, by definition, linearly transform the quantum state. A linear mapping between the latent and generator distribution would suffice for only the most simple generative tasks, hence we need non-linear transformations for which we will use ancillary qubits. Basically, when we take a partial measurement, and trace out the ancillary subsystem, The post-measurement state, is dependent on z (latent state) in both the numerator and denominator. This means the state has been non-linearly transformed.\n",
        "\n",
        "Finally, with the remaining data qubits ($N-N_A$), we measure the probability of the post-measurement state in each computational basis state $P(j)$, to obtain the sub-generator output, $g^{(i)}$, which is given by:\n",
        "\n",
        "$\\begin{equation}\n",
        "g^{(i)} = [P(0), P(1), ...., P(2^{N-N_A}-1)]\n",
        "\\end{equation}$\n",
        "\n",
        "**4.   Post-processing:**\n",
        "Due to the normalisation constraint of the measurment, all elements in g(i) must sum to one. This is a problem if we are to use g(i) as the pixel intensity values for our patch. To alleviate this constraint, we apply a post-processing technique to each patch,\n",
        "\n",
        "$\\begin{equation}\n",
        "x^{(i)} = \\frac{g^{(i)}}{max_{k}g_{k}^{(i)}}\n",
        "\\end{equation}$\n",
        "\n",
        "Therefore, the final image is given by,\n",
        "$\\begin{equation}\n",
        "x = [x^{(1)}, ...,x^{(N_G)} ]\n",
        "\\end{equation}$\n"
      ],
      "metadata": {
        "id": "GlwOmq6diWsZ"
      }
    },
    {
      "cell_type": "code",
      "source": [
        "# Quantum variables\n",
        "n_qubits = 5  # Total number of qubits / N\n",
        "n_a_qubits = 1  # Number of ancillary qubits / N_A\n",
        "q_depth = 6  # Depth of the parameterised quantum circuit / D\n",
        "n_generators = 4  # Number of subgenerators for the patch method / N_G"
      ],
      "metadata": {
        "id": "bGHw9xy9f9oy"
      },
      "execution_count": null,
      "outputs": []
    },
    {
      "cell_type": "markdown",
      "source": [
        "# Defining the quantum device"
      ],
      "metadata": {
        "id": "dtL_JoI3oaPQ"
      }
    },
    {
      "cell_type": "code",
      "source": [
        "# Quantum simulator\n",
        "dev = qml.device(\"lightning.qubit\", wires=n_qubits)  # For qubit model of quantum computation\n",
        "# Enable CUDA device if available\n",
        "device = torch.device(\"cuda:0\" if torch.cuda.is_available() else \"cpu\")"
      ],
      "metadata": {
        "id": "qyFnyyQygB7_"
      },
      "execution_count": null,
      "outputs": []
    },
    {
      "cell_type": "markdown",
      "source": [
        "# The quantum circuit and measurement process"
      ],
      "metadata": {
        "id": "M3UsPNWao_UY"
      }
    },
    {
      "cell_type": "code",
      "source": [
        "@qml.qnode(dev, diff_method=\"parameter-shift\")\n",
        "def quantum_circuit(noise, weights):\n",
        "\n",
        "    weights = weights.reshape(q_depth, n_qubits)   # which are actually trained\n",
        "\n",
        "    # Initialise latent vectors\n",
        "    for i in range(n_qubits):\n",
        "        qml.RY(noise[i], wires=i)\n",
        "\n",
        "    # Repeated layer\n",
        "    for i in range(q_depth):\n",
        "        # Parameterised layer\n",
        "        for y in range(n_qubits):\n",
        "            qml.RY(weights[i][y], wires=y)\n",
        "\n",
        "        # Control Z gates\n",
        "        for y in range(n_qubits - 1):\n",
        "            qml.CZ(wires=[y, y + 1])\n",
        "\n",
        "    return qml.probs(wires=list(range(n_qubits)))\n",
        "\n",
        "def partial_measure(noise, weights):\n",
        "    # Non-linear Transform\n",
        "    probs = quantum_circuit(noise, weights)\n",
        "    probsgiven0 = probs[: (2 ** (n_qubits - n_a_qubits))]   # Partial measurement and tracing out the ancillary subsystem\n",
        "    probsgiven0 /= torch.sum(probs)\n",
        "\n",
        "    # Post-Processing\n",
        "    probsgiven = probsgiven0 / torch.max(probsgiven0)\n",
        "    return probsgiven"
      ],
      "metadata": {
        "id": "L80ndXNGgF27"
      },
      "execution_count": null,
      "outputs": []
    },
    {
      "cell_type": "markdown",
      "source": [
        "# The quantum generator using the above quantum circuit"
      ],
      "metadata": {
        "id": "VrWmobHZpohB"
      }
    },
    {
      "cell_type": "code",
      "source": [
        "class PatchQuantumGenerator(nn.Module):\n",
        "    \"\"\"Quantum generator class for the patch method\"\"\"\n",
        "\n",
        "    def __init__(self, n_generators, q_delta=1):\n",
        "        \"\"\"\n",
        "        Args:\n",
        "            n_generators (int): Number of sub-generators to be used in the patch method.\n",
        "            q_delta (float, optional): Spread of the random distribution for parameter initialisation.\n",
        "        \"\"\"\n",
        "\n",
        "        super().__init__()\n",
        "\n",
        "        self.q_params = nn.ParameterList(\n",
        "            [\n",
        "                nn.Parameter(q_delta * torch.rand(q_depth * n_qubits), requires_grad=True)\n",
        "                for _ in range(n_generators)\n",
        "            ]\n",
        "        )\n",
        "        self.n_generators = n_generators\n",
        "\n",
        "    def forward(self, x):\n",
        "        # Size of each sub-generator output\n",
        "        patch_size = 2 ** (n_qubits - n_a_qubits)\n",
        "\n",
        "        # Create a Tensor to 'catch' a batch of images from the for loop. x.size(0) is the batch size.\n",
        "        images = torch.Tensor(x.size(0), 0).to(device)\n",
        "\n",
        "        # Iterate over all sub-generators\n",
        "        for params in self.q_params:\n",
        "\n",
        "            # Create a Tensor to 'catch' a batch of the patches from a single sub-generator\n",
        "            patches = torch.Tensor(0, patch_size).to(device)\n",
        "            for elem in x:\n",
        "                q_out = partial_measure(elem, params).float().unsqueeze(0)\n",
        "                patches = torch.cat((patches, q_out))\n",
        "\n",
        "            # Each batch of patches is concatenated with each other to create a batch of images\n",
        "            images = torch.cat((images, patches), 1)\n",
        "\n",
        "        return images"
      ],
      "metadata": {
        "id": "52997o7tgt55"
      },
      "execution_count": null,
      "outputs": []
    },
    {
      "cell_type": "markdown",
      "source": [
        "# Hyperparameters for the training process"
      ],
      "metadata": {
        "id": "4tOc1Y4-p5Kw"
      }
    },
    {
      "cell_type": "code",
      "source": [
        "lrG = 0.3  # Learning rate for the generator\n",
        "lrD = 0.01  # Learning rate for the discriminator\n",
        "num_iter = 500  # Number of training iterations"
      ],
      "metadata": {
        "id": "OJRoCxrAhOki"
      },
      "execution_count": null,
      "outputs": []
    },
    {
      "cell_type": "markdown",
      "source": [
        "Initializing the quantum generator and discriminator along with the loss function and optimizers\n",
        "\n"
      ],
      "metadata": {
        "id": "BT3QaqzHqBWV"
      }
    },
    {
      "cell_type": "code",
      "source": [
        "discriminator = Discriminator().to(device)\n",
        "generator = PatchQuantumGenerator(n_generators).to(device)\n",
        "\n",
        "# Binary cross entropy\n",
        "criterion = nn.BCELoss()\n",
        "\n",
        "# Optimisers\n",
        "optD = optim.SGD(discriminator.parameters(), lr=lrD)\n",
        "optG = optim.SGD(generator.parameters(), lr=lrG)\n",
        "\n",
        "real_labels = torch.full((batch_size,), 1.0, dtype=torch.float, device=device)\n",
        "fake_labels = torch.full((batch_size,), 0.0, dtype=torch.float, device=device)\n",
        "\n",
        "# Fixed noise allows us to visually track the generated images throughout training\n",
        "fixed_noise = torch.rand(8, n_qubits, device=device) * math.pi / 2\n",
        "\n",
        "# Iteration counter\n",
        "counter = 0\n",
        "\n",
        "# Collect images for plotting later\n",
        "results = []"
      ],
      "metadata": {
        "id": "af_U-6w1hSTP"
      },
      "execution_count": null,
      "outputs": []
    },
    {
      "cell_type": "markdown",
      "source": [
        "# The training process"
      ],
      "metadata": {
        "id": "Oa2_737lqfn7"
      }
    },
    {
      "cell_type": "code",
      "source": [
        "while True:\n",
        "    for i, (data, _) in enumerate(dataloader):\n",
        "\n",
        "        # Data for training the discriminator\n",
        "        data = data.reshape(-1, image_size * image_size)\n",
        "        real_data = data.to(device)\n",
        "\n",
        "        # Noise follwing a uniform distribution in range [0,pi/2)\n",
        "        noise = torch.rand(batch_size, n_qubits, device=device) * math.pi / 2\n",
        "        fake_data = generator(noise)\n",
        "\n",
        "        # Training the discriminator\n",
        "        discriminator.zero_grad()\n",
        "        outD_real = discriminator(real_data).view(-1)\n",
        "        outD_fake = discriminator(fake_data.detach()).view(-1)\n",
        "\n",
        "        errD_real = criterion(outD_real, real_labels)\n",
        "        errD_fake = criterion(outD_fake, fake_labels)\n",
        "        # Propagate gradients\n",
        "        errD_real.backward()\n",
        "        errD_fake.backward()\n",
        "\n",
        "        errD = errD_real + errD_fake\n",
        "        optD.step()\n",
        "\n",
        "        # Training the generator\n",
        "        generator.zero_grad()\n",
        "        outD_fake = discriminator(fake_data).view(-1)\n",
        "        errG = criterion(outD_fake, real_labels)\n",
        "        errG.backward()\n",
        "        optG.step()\n",
        "\n",
        "        counter += 1\n",
        "\n",
        "        # Show loss values\n",
        "        if counter % 10 == 0:\n",
        "            print(f'Iteration: {counter}, Discriminator Loss: {errD:0.3f}, Generator Loss: {errG:0.3f}')\n",
        "            test_images = generator(fixed_noise).view(8,1,image_size,image_size).cpu().detach()\n",
        "\n",
        "            # Save images every 50 iterations\n",
        "            if counter % 50 == 0:\n",
        "                results.append(test_images)\n",
        "\n",
        "        if counter == num_iter:\n",
        "            break\n",
        "    if counter == num_iter:\n",
        "        break"
      ],
      "metadata": {
        "colab": {
          "base_uri": "https://localhost:8080/"
        },
        "collapsed": true,
        "id": "OIRlvhExhajf",
        "outputId": "f9b5d713-6783-46f6-b2e5-6a2093325680"
      },
      "execution_count": null,
      "outputs": [
        {
          "output_type": "stream",
          "name": "stdout",
          "text": [
            "Iteration: 10, Discriminator Loss: 1.361, Generator Loss: 0.596\n",
            "Iteration: 20, Discriminator Loss: 1.351, Generator Loss: 0.604\n",
            "Iteration: 30, Discriminator Loss: 1.308, Generator Loss: 0.624\n",
            "Iteration: 40, Discriminator Loss: 1.302, Generator Loss: 0.628\n",
            "Iteration: 50, Discriminator Loss: 1.270, Generator Loss: 0.655\n",
            "Iteration: 60, Discriminator Loss: 1.309, Generator Loss: 0.607\n",
            "Iteration: 70, Discriminator Loss: 1.252, Generator Loss: 0.652\n",
            "Iteration: 80, Discriminator Loss: 1.302, Generator Loss: 0.594\n",
            "Iteration: 90, Discriminator Loss: 1.254, Generator Loss: 0.615\n",
            "Iteration: 100, Discriminator Loss: 1.290, Generator Loss: 0.593\n",
            "Iteration: 110, Discriminator Loss: 1.198, Generator Loss: 0.659\n",
            "Iteration: 120, Discriminator Loss: 1.294, Generator Loss: 0.594\n",
            "Iteration: 130, Discriminator Loss: 1.262, Generator Loss: 0.624\n",
            "Iteration: 140, Discriminator Loss: 1.260, Generator Loss: 0.600\n",
            "Iteration: 150, Discriminator Loss: 1.259, Generator Loss: 0.615\n",
            "Iteration: 160, Discriminator Loss: 1.312, Generator Loss: 0.570\n",
            "Iteration: 170, Discriminator Loss: 1.352, Generator Loss: 0.598\n",
            "Iteration: 180, Discriminator Loss: 1.267, Generator Loss: 0.630\n",
            "Iteration: 190, Discriminator Loss: 1.299, Generator Loss: 0.640\n",
            "Iteration: 200, Discriminator Loss: 1.237, Generator Loss: 0.630\n",
            "Iteration: 210, Discriminator Loss: 1.167, Generator Loss: 0.711\n",
            "Iteration: 220, Discriminator Loss: 1.268, Generator Loss: 0.672\n",
            "Iteration: 230, Discriminator Loss: 1.163, Generator Loss: 0.669\n",
            "Iteration: 240, Discriminator Loss: 1.212, Generator Loss: 0.690\n",
            "Iteration: 250, Discriminator Loss: 1.197, Generator Loss: 0.700\n",
            "Iteration: 260, Discriminator Loss: 1.246, Generator Loss: 0.611\n",
            "Iteration: 270, Discriminator Loss: 1.227, Generator Loss: 0.705\n",
            "Iteration: 280, Discriminator Loss: 1.122, Generator Loss: 0.734\n",
            "Iteration: 290, Discriminator Loss: 1.116, Generator Loss: 0.745\n",
            "Iteration: 300, Discriminator Loss: 1.173, Generator Loss: 0.693\n",
            "Iteration: 310, Discriminator Loss: 1.130, Generator Loss: 0.793\n",
            "Iteration: 320, Discriminator Loss: 1.182, Generator Loss: 0.652\n",
            "Iteration: 330, Discriminator Loss: 1.312, Generator Loss: 0.645\n",
            "Iteration: 340, Discriminator Loss: 1.108, Generator Loss: 0.846\n",
            "Iteration: 350, Discriminator Loss: 1.161, Generator Loss: 0.721\n",
            "Iteration: 360, Discriminator Loss: 1.207, Generator Loss: 0.717\n",
            "Iteration: 370, Discriminator Loss: 0.927, Generator Loss: 0.935\n",
            "Iteration: 380, Discriminator Loss: 1.055, Generator Loss: 0.702\n",
            "Iteration: 390, Discriminator Loss: 1.009, Generator Loss: 0.828\n",
            "Iteration: 400, Discriminator Loss: 1.030, Generator Loss: 0.822\n",
            "Iteration: 410, Discriminator Loss: 0.991, Generator Loss: 0.817\n",
            "Iteration: 420, Discriminator Loss: 1.024, Generator Loss: 0.827\n",
            "Iteration: 430, Discriminator Loss: 0.963, Generator Loss: 0.908\n",
            "Iteration: 440, Discriminator Loss: 0.789, Generator Loss: 0.950\n",
            "Iteration: 450, Discriminator Loss: 0.839, Generator Loss: 0.934\n",
            "Iteration: 460, Discriminator Loss: 0.800, Generator Loss: 1.217\n",
            "Iteration: 470, Discriminator Loss: 0.978, Generator Loss: 0.829\n",
            "Iteration: 480, Discriminator Loss: 0.649, Generator Loss: 1.164\n",
            "Iteration: 490, Discriminator Loss: 0.900, Generator Loss: 0.978\n",
            "Iteration: 500, Discriminator Loss: 1.217, Generator Loss: 0.594\n"
          ]
        }
      ]
    },
    {
      "cell_type": "markdown",
      "source": [
        "# Evolution of the generated images"
      ],
      "metadata": {
        "id": "zwQyQa2vq8s6"
      }
    },
    {
      "cell_type": "code",
      "source": [
        "fig = plt.figure(figsize=(10, 5))\n",
        "outer = gridspec.GridSpec(5, 2, wspace=0.1)\n",
        "\n",
        "for i, images in enumerate(results):\n",
        "    inner = gridspec.GridSpecFromSubplotSpec(1, images.size(0),\n",
        "                    subplot_spec=outer[i])\n",
        "\n",
        "    images = torch.squeeze(images, dim=1)\n",
        "    for j, im in enumerate(images):\n",
        "\n",
        "        ax = plt.Subplot(fig, inner[j])\n",
        "        ax.imshow(im.numpy(), cmap=\"gray\")\n",
        "        ax.set_xticks([])\n",
        "        ax.set_yticks([])\n",
        "        if j==0:\n",
        "            ax.set_title(f'Iteration {50+i*50}', loc='left')\n",
        "        fig.add_subplot(ax)\n",
        "\n",
        "plt.show()"
      ],
      "metadata": {
        "colab": {
          "base_uri": "https://localhost:8080/",
          "height": 417
        },
        "id": "BSzIldGWhmCV",
        "outputId": "23fd0e18-4a1f-4d47-d290-25b8c1793d53"
      },
      "execution_count": null,
      "outputs": [
        {
          "output_type": "display_data",
          "data": {
            "text/plain": [
              "<Figure size 1000x500 with 80 Axes>"
            ],
            "image/png": "[encoded data removed]"
          },
          "metadata": {}
        }
      ]
    }
  ]
}